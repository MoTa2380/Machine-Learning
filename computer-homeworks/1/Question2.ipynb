{
  "cells": [
    {
      "cell_type": "markdown",
      "metadata": {
        "id": "un_07izr0mCO"
      },
      "source": [
        "<h1 align=\"center\">An Introduction to Machine Learning - 25737</h1>\n",
        "<h4 align=\"center\">Dr. Sajjad Amini</h4>\n",
        "<h4 align=\"center\">Sharif University of Technology, Spring 2023</h4>\n",
        "\n",
        "**Student Name**: Mohammad Taslimi\n",
        "\n",
        "**Student ID**: 99101321\n",
        "\n",
        "# Effect of Overfitting\n",
        "\n",
        "In this exercise, we want to examine the effect of **overfitting**. As you learned in class, using too many features in training can result in a model with very low loss on the training set but high loss on the validation and test set. For this purpose, we have prepared a dataset in the `q2-train.npy`, `q2-valid.npy`, and `q2-test.npy` files for you. We know that `y` is a polynomial function of `x` in this dataset, meaning that \n",
        "\n",
        "$$\n",
        "y = \\sum_{i=0}^{k}a_ix^i\n",
        "$$\n",
        "\n",
        "However, we do not know the exact value of `k`."
      ]
    },
    {
      "cell_type": "markdown",
      "metadata": {
        "id": "rcSNUeqT158e"
      },
      "source": [
        "## Importing Libraries\n",
        "\n",
        "First, we import the necessary libraries for this assignment. Please note that you should only use these libraries and no other libraries are acceptable."
      ]
    },
    {
      "cell_type": "code",
      "execution_count": null,
      "metadata": {
        "id": "UitW8b0J0jBa"
      },
      "outputs": [],
      "source": [
        "import numpy as np\n",
        "import matplotlib.pyplot as plt"
      ]
    },
    {
      "cell_type": "markdown",
      "metadata": {
        "id": "Q1x7BaU22F4k"
      },
      "source": [
        "## Reading Data and Preprocessing\n",
        "\n",
        "In this part of the assignment, you should read data from the `.npy` files. The data in `q2-train.npy` file is your training set and should be stored in the `X_train` and `Y_train` variables. Similarly, the data in `q2-valid.npy` file is your validation set, and the data in `q2-test.npy` file is your test set, which should be stored in `X_val`, `Y_val`, `X_test`, and `Y_test` respectively. You can use the `np.load` function to read the `.npy` files."
      ]
    },
    {
      "cell_type": "code",
      "execution_count": null,
      "metadata": {
        "id": "dDMeq10G2m0U"
      },
      "outputs": [],
      "source": [
        "X_train, Y_train, X_val, Y_val, X_test, Y_test = None, None, None, None, None, None\n",
        "\n",
        "### START CODE HERE ###\n",
        "T = np.load('q2-train.npy')\n",
        "X_train = T[:, 0:1]\n",
        "Y_train = T[:, 1:2]\n",
        "\n",
        "T = np.load('q2-test.npy')\n",
        "X_test = T[:, 0:1]\n",
        "Y_test = T[:, 1:2]\n",
        "\n",
        "T = np.load('q2-valid.npy')\n",
        "X_val = T[:, 0:1]\n",
        "Y_val = T[:, 1:2]\n",
        "\n",
        "### END CODE HERE ###"
      ]
    },
    {
      "cell_type": "markdown",
      "metadata": {
        "id": "nyXpEfEa3Gw-"
      },
      "source": [
        "To find the best value of `k`, we want to change `k` from 1 to 12 and examine its effect on the validation set, and then choose the right value of `k`. For this purpose, we need to create a matrix with columns equal to $x^0$, $x^1$, $x^2$, ..., $x^k$ for every value of `k`. You can complete the following function to do this job. The function takes an $m \\times 1$ vector `X` containing values of input `x` and returns an $m \\times (k+1)$ matrix that has the properties mentioned above."
      ]
    },
    {
      "cell_type": "code",
      "execution_count": null,
      "metadata": {
        "id": "DXw2tPO84Ksp"
      },
      "outputs": [],
      "source": [
        "def create_matrix(X, k):\n",
        "  '''\n",
        "  X: an m by 1 array \n",
        "  '''\n",
        "  new_X = None\n",
        "  \n",
        "  ### START CODE HERE ###\n",
        "  m = X.shape[0]\n",
        "  new_X = np.ones((m, 1))\n",
        "  for i in range(k):\n",
        "    new_X = np.hstack((new_X, X**(i+1)))\n",
        "  ### END CODE HERE ###\n",
        "  return new_X"
      ]
    },
    {
      "cell_type": "markdown",
      "metadata": {
        "id": "WCTuye7C5Aq3"
      },
      "source": [
        "## Validate Model\n",
        "\n",
        "Now, we want to train our model for every value of `k`. You can use any of the methods that we used in **Question 1** (gradient descent or direct calculation) for this purpose. The following function trains our model on the training set for a given value of `k`, and then returns the loss on the training set and validation set, as well as the weight vector `w`."
      ]
    },
    {
      "cell_type": "code",
      "execution_count": null,
      "metadata": {
        "id": "9lfWITgf7yQH"
      },
      "outputs": [],
      "source": [
        "# If you need any other function for training write it here\n",
        "# (like gradient descent or anything else)\n",
        "\n",
        "def loss(X, Y, w):\n",
        "  '''\n",
        "  X: an m by (n+1) matrix which includes inputs\n",
        "  Y: an m by 1 vector which includes heating loads\n",
        "  w: an (n+1) by 1 weight vector\n",
        "  '''\n",
        "  m, n = X.shape\n",
        "  loss = None\n",
        "  ### START CODE HERE ###\n",
        "  Z = X @ w \n",
        "  vec = X @ w - Y\n",
        "  loss = (1/m)*(vec.T @ vec)\n",
        "  ### END CODE HERE ###\n",
        "  return loss\n",
        "\n",
        "\n",
        "def direct_method(X, Y):\n",
        "  '''\n",
        "  X: an m by (n+1) matrix which includes inputs\n",
        "  Y: an m by 1 vector which includes heating loads\n",
        "  '''\n",
        "  w = None\n",
        "  ### START CODE HERE ###\n",
        "  w = np.linalg.pinv(X) @ Y\n",
        "  ### END CODE HERE ###\n",
        "  return w"
      ]
    },
    {
      "cell_type": "code",
      "execution_count": null,
      "metadata": {
        "id": "JaIs631q508z"
      },
      "outputs": [],
      "source": [
        "def train(X_train, Y_train, X_val, Y_val, k):\n",
        "  '''\n",
        "  X_train: an m_train by 1 vector contains training points\n",
        "  Y_train: an m_train by 1 vector contains training values\n",
        "  X_val: an m_val by 1 vector contains validation points\n",
        "  Y_val: an m_val by 1 vector contains validation values\n",
        "  k: degree of polynomial\n",
        "  '''\n",
        "  w, loss_train, loss_val = None, None, None\n",
        "  ### START CODE HERE ###\n",
        "  X_mat_train = create_matrix(X_train, k)\n",
        "  X_mat_val = create_matrix(X_val, k)\n",
        "  w = direct_method(X_mat_train, Y_train)\n",
        "  loss_train = loss(X_mat_train, Y_train, w)\n",
        "  loss_val = loss(X_mat_val, Y_val, w)\n",
        "  ### END CODE HERE ###\n",
        "  return w, loss_train, loss_val"
      ]
    },
    {
      "cell_type": "markdown",
      "metadata": {
        "id": "eAsZfxCu6YEf"
      },
      "source": [
        "In the cell below, you can change the value of `k` between 1 and 12 and plot the loss on the training and validation set as a function of `k` in the same plot.\n",
        "\n",
        "**Question**: Discuss about the effect of $k$.\n",
        "\n",
        "**Answer**: When k increases the error on the train set decreases and on the test set first decreases and then increases and the increase in error is the result of overfitting. Here the best k is 7"
      ]
    },
    {
      "cell_type": "code",
      "execution_count": null,
      "metadata": {
        "id": "knUTXtOv66Wx",
        "colab": {
          "base_uri": "https://localhost:8080/",
          "height": 452
        },
        "outputId": "0389f6f9-5d77-40c3-c47f-aaca4103c1c5"
      },
      "outputs": [
        {
          "output_type": "display_data",
          "data": {
            "text/plain": [
              "<Figure size 640x480 with 2 Axes>"
            ],
            "image/png": "[encoded data removed]"
          },
          "metadata": {}
        }
      ],
      "source": [
        "### START CODE HERE ###\n",
        "k = 12\n",
        "loss_train = np.zeros((k, 1))\n",
        "loss_val = np.zeros((k, 1))\n",
        "\n",
        "for i in range(k):\n",
        "  w, loss_train[i], loss_val[i] = train(X_train, Y_train, X_val, Y_val, i+1)\n",
        "plt.subplot(1, 2, 1)\n",
        "plt.plot(loss_train)\n",
        "plt.title('train loss')\n",
        "\n",
        "plt.subplot(1, 2, 2)\n",
        "plt.plot(loss_val)\n",
        "plt.title('validation loss')\n",
        "plt.show()\n",
        "\n",
        "### END CODE HERE ###"
      ]
    },
    {
      "cell_type": "markdown",
      "metadata": {
        "id": "K0M1d2Ez7JLJ"
      },
      "source": [
        "## Evaluating Model\n",
        "\n",
        "In the cell below find the loss of your best model on the test set.\n",
        "\n",
        "**Question**: Why we need test set?\n",
        "\n",
        "**Answer**: To check that our model is suitable and overfitting doesn't occur."
      ]
    },
    {
      "cell_type": "code",
      "execution_count": null,
      "metadata": {
        "id": "Ex1P5H0A7emE",
        "colab": {
          "base_uri": "https://localhost:8080/"
        },
        "outputId": "75696219-0702-42a7-ad69-d25d294967b4"
      },
      "outputs": [
        {
          "output_type": "execute_result",
          "data": {
            "text/plain": [
              "(array([[-0.32123719],\n",
              "        [ 0.20067219],\n",
              "        [ 0.79125773],\n",
              "        [-0.61887301],\n",
              "        [-0.67492274],\n",
              "        [ 0.21489276],\n",
              "        [ 0.21033192],\n",
              "        [ 0.00370995]]),\n",
              " array([[0.08871247]]),\n",
              " array([[0.30719022]]))"
            ]
          },
          "metadata": {},
          "execution_count": 18
        }
      ],
      "source": [
        "### START CODE HERE ###\n",
        "\n",
        "\n",
        "# the best k = 7\n",
        "k = 7\n",
        "train(X_train, Y_train, X_test, Y_test, k)\n",
        "\n",
        "### END CODE HERE ###"
      ]
    }
  ],
  "metadata": {
    "colab": {
      "provenance": []
    },
    "kernelspec": {
      "display_name": "Python 3",
      "name": "python3"
    },
    "language_info": {
      "name": "python"
    }
  },
  "nbformat": 4,
  "nbformat_minor": 0
}